{
  "nbformat": 4,
  "nbformat_minor": 0,
  "metadata": {
    "colab": {
      "name": "word_embeddings.ipynb",
      "provenance": [],
      "collapsed_sections": [],
      "authorship_tag": "ABX9TyOSnF70epMobHT14hsfnhPl"
    },
    "kernelspec": {
      "name": "python3",
      "display_name": "Python 3"
    },
    "language_info": {
      "name": "python"
    },
    "accelerator": "GPU"
  },
  "cells": [
    {
      "cell_type": "markdown",
      "metadata": {
        "id": "0MeZHQUzyzWB"
      },
      "source": [
        "# Word Embedding\n",
        "https://www.youtube.com/watch?v=5PL0TmQhItY\n",
        "\n",
        "https://towardsdatascience.com/implementing-word2vec-in-pytorch-skip-gram-model-e6bae040d2fb\n",
        "\n",
        "http://mccormickml.com/2016/04/19/word2vec-tutorial-the-skip-gram-model/\n",
        "\n",
        "https://machinelearningmastery.com/pytorch-tutorial-develop-deep-learning-models/"
      ]
    },
    {
      "cell_type": "code",
      "metadata": {
        "colab": {
          "base_uri": "https://localhost:8080/"
        },
        "id": "5WzouZIrxYz-",
        "outputId": "3c5c2fb9-d879-4778-f486-6af4acac631a"
      },
      "source": [
        "!pip install torch nltk pandas seaborn numpy"
      ],
      "execution_count": 42,
      "outputs": [
        {
          "output_type": "stream",
          "name": "stdout",
          "text": [
            "Requirement already satisfied: torch in /usr/local/lib/python3.7/dist-packages (1.9.0+cu102)\n",
            "Requirement already satisfied: nltk in /usr/local/lib/python3.7/dist-packages (3.2.5)\n",
            "Requirement already satisfied: pandas in /usr/local/lib/python3.7/dist-packages (1.1.5)\n",
            "Requirement already satisfied: seaborn in /usr/local/lib/python3.7/dist-packages (0.11.1)\n",
            "Requirement already satisfied: numpy in /usr/local/lib/python3.7/dist-packages (1.19.5)\n",
            "Requirement already satisfied: typing-extensions in /usr/local/lib/python3.7/dist-packages (from torch) (3.7.4.3)\n",
            "Requirement already satisfied: six in /usr/local/lib/python3.7/dist-packages (from nltk) (1.15.0)\n",
            "Requirement already satisfied: python-dateutil>=2.7.3 in /usr/local/lib/python3.7/dist-packages (from pandas) (2.8.2)\n",
            "Requirement already satisfied: pytz>=2017.2 in /usr/local/lib/python3.7/dist-packages (from pandas) (2018.9)\n",
            "Requirement already satisfied: matplotlib>=2.2 in /usr/local/lib/python3.7/dist-packages (from seaborn) (3.2.2)\n",
            "Requirement already satisfied: scipy>=1.0 in /usr/local/lib/python3.7/dist-packages (from seaborn) (1.4.1)\n",
            "Requirement already satisfied: pyparsing!=2.0.4,!=2.1.2,!=2.1.6,>=2.0.1 in /usr/local/lib/python3.7/dist-packages (from matplotlib>=2.2->seaborn) (2.4.7)\n",
            "Requirement already satisfied: kiwisolver>=1.0.1 in /usr/local/lib/python3.7/dist-packages (from matplotlib>=2.2->seaborn) (1.3.1)\n",
            "Requirement already satisfied: cycler>=0.10 in /usr/local/lib/python3.7/dist-packages (from matplotlib>=2.2->seaborn) (0.10.0)\n"
          ]
        }
      ]
    },
    {
      "cell_type": "code",
      "metadata": {
        "colab": {
          "base_uri": "https://localhost:8080/"
        },
        "id": "_ypwnNG0WmkH",
        "outputId": "a6770a1e-2d8a-4552-b71d-ec33301f962a"
      },
      "source": [
        "import nltk\n",
        "import torch\n",
        "import itertools\n",
        "import numpy as np\n",
        "import pandas as pd\n",
        "import seaborn as sns\n",
        "from nltk.corpus import stopwords\n",
        "nltk.download(\"punkt\")\n",
        "nltk.download(\"stopwords\")\n",
        "nltk.download(\"wordnet\")"
      ],
      "execution_count": 43,
      "outputs": [
        {
          "output_type": "stream",
          "name": "stdout",
          "text": [
            "[nltk_data] Downloading package punkt to /root/nltk_data...\n",
            "[nltk_data]   Package punkt is already up-to-date!\n",
            "[nltk_data] Downloading package stopwords to /root/nltk_data...\n",
            "[nltk_data]   Package stopwords is already up-to-date!\n",
            "[nltk_data] Downloading package wordnet to /root/nltk_data...\n",
            "[nltk_data]   Package wordnet is already up-to-date!\n"
          ]
        },
        {
          "output_type": "execute_result",
          "data": {
            "text/plain": [
              "True"
            ]
          },
          "metadata": {},
          "execution_count": 43
        }
      ]
    },
    {
      "cell_type": "code",
      "metadata": {
        "id": "_kl14P2ixZ8Q"
      },
      "source": [
        "from google.colab import drive\n",
        "drive.mount('/content/gdrive')\n",
        "file_name = \"gdrive/MyDrive/tweets.csv\""
      ],
      "execution_count": null,
      "outputs": []
    },
    {
      "cell_type": "code",
      "metadata": {
        "id": "rWE5oINCKF1S"
      },
      "source": [
        "from nltk.stem import WordNetLemmatizer\n",
        "stopwords = nltk.corpus.stopwords.words('english')\n",
        "  \n",
        "lemmatizer = WordNetLemmatizer()"
      ],
      "execution_count": null,
      "outputs": []
    },
    {
      "cell_type": "code",
      "metadata": {
        "id": "vigDx84PZbRQ"
      },
      "source": [
        "tweets_df = pd.read_csv(file_name,  header=None, encoding='ISO-8859-1', names=[\"target\", \"ids\", \"date\", \"flag\", \"user\", \"text\"])"
      ],
      "execution_count": null,
      "outputs": []
    },
    {
      "cell_type": "code",
      "metadata": {
        "id": "f4qny546Zv44"
      },
      "source": [
        "tweets_df.head()"
      ],
      "execution_count": null,
      "outputs": []
    },
    {
      "cell_type": "code",
      "metadata": {
        "id": "wFcy7JPVEoYd"
      },
      "source": [
        "sentences = [nltk.sent_tokenize(tweet) for tweet in tweets_df[\"text\"].iloc[:10000]]\n",
        "sentences = list(itertools.chain(*sentences))\n",
        "\n",
        "def cleanup_text(sentences):\n",
        "  clean_sentences = []\n",
        "  for sentence in sentences:\n",
        "    clean_sentence = []\n",
        "    for token in sentence.split(\" \"):\n",
        "      if token in stopwords or not token.isalpha():\n",
        "        continue\n",
        "      clean_sentence.append(lemmatizer.lemmatize(token))\n",
        "    clean_sentences.append(clean_sentence)\n",
        "  return clean_sentences\n",
        "\n",
        "\n",
        "# simplify and clean sentences\n",
        "sentences = cleanup_text(sentences)"
      ],
      "execution_count": null,
      "outputs": []
    },
    {
      "cell_type": "code",
      "metadata": {
        "id": "q3FFlh_wE2_y"
      },
      "source": [
        "vocabulary = []\n",
        "for sentence in sentences:\n",
        "  for token in sentence:\n",
        "    if token not in vocabulary:\n",
        "      vocabulary.append(token)\n",
        "\n",
        "word2idx = {w: idx for (idx, w) in enumerate(vocabulary)}\n",
        "idx2word = {idx: w for (idx, w) in enumerate(vocabulary)}\n",
        "\n",
        "vocabulary_size = len(vocabulary)"
      ],
      "execution_count": null,
      "outputs": []
    },
    {
      "cell_type": "code",
      "metadata": {
        "id": "meQAHKPESv50"
      },
      "source": [
        "window_size = 2\n",
        "\n",
        "ngrams = [nltk.ngrams(sentence, window_size) for sentence in sentences if len(sentence) > window_size]\n",
        "ngrams = list(itertools.chain(*ngrams))\n",
        "\n",
        "def get_ngrams_idx(ngrams):\n",
        "  \"\"\"\n",
        "  Function to map ngram of variable length to idx\n",
        "  \"\"\"\n",
        "  ngrams_idx = []\n",
        "  for ngram in ngrams:\n",
        "    word_idx = []\n",
        "    for word in ngram:\n",
        "      word_idx.append(word2idx[word])\n",
        "    ngrams_idx.append(tuple(word_idx))\n",
        "  return ngrams_idx\n",
        "\n",
        "\n",
        "idx_pairs = get_ngrams_idx(ngrams)"
      ],
      "execution_count": null,
      "outputs": []
    },
    {
      "cell_type": "markdown",
      "metadata": {
        "id": "Rj7pfC_-xa81"
      },
      "source": [
        "# Word2Vec implementation"
      ]
    },
    {
      "cell_type": "markdown",
      "metadata": {
        "id": "KDZLCPm7BIZf"
      },
      "source": [
        "## Skip-n-gram"
      ]
    },
    {
      "cell_type": "code",
      "metadata": {
        "id": "_bHQ6hd3xx0U"
      },
      "source": [
        "from torch import nn\n",
        "\n",
        "def get_input_layer(word_id):\n",
        "  x = torch.zeros(vocabulary_size)\n",
        "  x[word_id] = 1\n",
        "  return x\n",
        "\n",
        "class WordEmbedder(nn.Sequential):\n",
        "\n",
        "    def __init__(self, vocabulary_size, embedding_dims):\n",
        "        super(WordEmbedder, self).__init__()\n",
        "        self.embedding_dims = embedding_dims\n",
        "        self.vocabulary_size = vocabulary_size\n",
        "        self.layer = nn.Embedding(self.vocabulary_size,self.embedding_dims, sparse=True)\n",
        "        self.activation = nn.Softmax(self.vocabulary_size)\n",
        "\n",
        "    def forward(self, X):\n",
        "        X = self.layer(X)\n",
        "        X = self.activation(X)\n",
        "        return X\n",
        "\n",
        "model = WordEmbedder(vocabulary_size, 5)"
      ],
      "execution_count": null,
      "outputs": []
    },
    {
      "cell_type": "markdown",
      "metadata": {
        "id": "2Pwy3WKpypdI"
      },
      "source": [
        "# Matrix Decomposition"
      ]
    },
    {
      "cell_type": "code",
      "metadata": {
        "id": "JntrqInZyuL9"
      },
      "source": [
        ""
      ],
      "execution_count": null,
      "outputs": []
    },
    {
      "cell_type": "markdown",
      "metadata": {
        "id": "R-UVhT9kzB6h"
      },
      "source": [
        "# Glove"
      ]
    },
    {
      "cell_type": "code",
      "metadata": {
        "id": "hCvquFPizC1Q"
      },
      "source": [
        ""
      ],
      "execution_count": null,
      "outputs": []
    },
    {
      "cell_type": "markdown",
      "metadata": {
        "id": "xx5T-fRdPUOw"
      },
      "source": [
        "# Keras embedding layer"
      ]
    },
    {
      "cell_type": "code",
      "metadata": {
        "id": "EfHFPCB5PTgo"
      },
      "source": [
        ""
      ],
      "execution_count": null,
      "outputs": []
    },
    {
      "cell_type": "code",
      "metadata": {
        "id": "xme6Zd0Fna3w"
      },
      "source": [
        ""
      ],
      "execution_count": null,
      "outputs": []
    }
  ]
}